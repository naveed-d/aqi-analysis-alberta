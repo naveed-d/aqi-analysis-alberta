{
 "cells": [
  {
   "cell_type": "markdown",
   "id": "538c4a1a-fb69-4c9d-8c30-c155d24bb167",
   "metadata": {
    "editable": true,
    "slideshow": {
     "slide_type": ""
    },
    "tags": []
   },
   "source": [
    "# AQI Dataset Cleaning Notebook\n"
   ]
  },
  {
   "cell_type": "markdown",
   "id": "9700a8d0",
   "metadata": {
    "editable": true,
    "nteract": {
     "transient": {
      "deleting": false
     }
    },
    "slideshow": {
     "slide_type": ""
    },
    "tags": []
   },
   "source": [
    "## Introduction to Cleaning and Data Preparation Functions\n",
    "\n",
    "### Cleaning the Datasets\n",
    "\n",
    "The following code uses a loop to clean each dataset, then provides an overview immediately after each is cleaned. \n",
    "\n",
    "The methods of cleaning these datasets include:\n",
    "- Stripping Whitespace in the column names\n",
    "- Creating a dataframe using on the \"date\" and \"pm25\" (columns of interest)\n",
    "- Converting the \"pm25\" column values to numerical datatypes for accurate calculations and analysis.\n",
    "- Dropping any rows where \"pm25\" values are missing, to maintain integrity of analyses related to air quality measurements.\n",
    "- Converting the date column to properly formatted datetime, to facilitate time series analysis across one or more datasets.\n",
    "- Saving the cleaned dataset as a .csv file under a new filename. This preserves the original data to ensure reproducibility of the analysis.\n",
    "\n",
    "### Dataset Overview/Summary\n",
    "\n",
    "The code to produce a summary is a structured loop that is run after the clean_data() function is performed.\n",
    "It provides a quick outline of one or multiple dataframes. Information includes:\n",
    "- Dataframe shape\n",
    "- Data types\n",
    "- Missing Value count\n",
    "- Dataframe head() preview\n",
    "- Summary statistics (including mean, median, standard deviation, etc., which provide insights into the distribution and central tendencies of the data)\n",
    "\n",
    "### Example: Loading the Datasets\n",
    "\n",
    "Here's how the `datasets` dictionary is structured:\n",
    "\n",
    "```python\n",
    "\n",
    "datasets = {\n",
    "    \"edmonton-central, alberta-air-quality.csv\": \"cleaned_edm_df.csv\",\n",
    "    \"calgary-central 2, alberta, canada-air-quality.csv\": \"cleaned_cgy_df.csv\",\n",
    "    \"fort-mcmurray athabasca valley, alberta-air-quality.csv\": \"cleaned_fort_df.csv\",\n",
    "    \"lethbridge,-alberta, canada-air-quality.csv\": \"cleaned_leth_df.csv\"\n",
    "}\n",
    "```\n",
    "\n",
    "In this dictionary:\n",
    "\n",
    "The key represents the path and filename of the original dataset.\n",
    "For example, \"edmonton-central, alberta-air-quality.csv\" is the original file containing air quality data for Edmonton-Central.\n",
    "\n",
    "The value associated with each key is the filename we wish to assign to the cleaned version of the dataset. \n",
    "For instance, \"cleaned_edm_df.csv\" will be the new file containing the cleaned data derived from the original Edmonton-Central dataset.\n",
    "\n",
    "### Looping the Dataset dictionary through each Function\n",
    "\n",
    "The dataset dictionary is used to loop each dataset file through the clean_data() function and the dataset_overview() function, resulting in a cleaned_dataset.csv file, and a dataset overview of each cleaned dataframe. "
   ]
  },
  {
   "cell_type": "markdown",
   "id": "4fe9a96f-0bda-47d6-aa82-48ddc56ac6f7",
   "metadata": {},
   "source": [
    "## Performing Cleaning and Summary Functions"
   ]
  },
  {
   "cell_type": "code",
   "execution_count": 2,
   "id": "90bdce51-069c-40e6-809b-1819d1317cd5",
   "metadata": {
    "editable": true,
    "slideshow": {
     "slide_type": ""
    },
    "tags": []
   },
   "outputs": [
    {
     "name": "stdout",
     "output_type": "stream",
     "text": [
      "Overview of cleaned_edm_df.csv:\n",
      "Shape: (2267, 2)\n",
      "Data Types: date    datetime64[ns]\n",
      "pm25           float64\n",
      "dtype: object\n",
      "Missing Values: date    0\n",
      "pm25    0\n",
      "dtype: int64\n",
      "Data Preview (head)         date   pm25\n",
      "0 2022-09-10   22.0\n",
      "1 2022-09-11   89.0\n",
      "2 2022-09-12  131.0\n",
      "3 2022-09-13   35.0\n",
      "4 2022-09-14   70.0 \n",
      "\n",
      "Summary Statistics:                                 date         pm25\n",
      "count                           2267  2267.000000\n",
      "mean   2017-12-12 23:18:42.717247488    30.345831\n",
      "min              2014-08-09 00:00:00     4.000000\n",
      "25%              2016-05-02 12:00:00    17.000000\n",
      "50%              2017-12-07 00:00:00    25.000000\n",
      "75%              2019-07-19 12:00:00    37.000000\n",
      "max              2022-09-15 00:00:00   239.000000\n",
      "std                              NaN    20.496925 \n",
      "\n",
      "Overview of cleaned_cgy_df.csv:\n",
      "Shape: (2974, 2)\n",
      "Data Types: date    datetime64[ns]\n",
      "pm25           float64\n",
      "dtype: object\n",
      "Missing Values: date    0\n",
      "pm25    0\n",
      "dtype: int64\n",
      "Data Preview (head)         date  pm25\n",
      "0 2024-03-02  44.0\n",
      "1 2024-03-03  29.0\n",
      "2 2024-02-02  35.0\n",
      "3 2024-02-03  48.0\n",
      "4 2024-02-04  14.0 \n",
      "\n",
      "Summary Statistics:                                 date         pm25\n",
      "count                           2974  2974.000000\n",
      "mean   2019-08-17 08:21:08.594485504    31.054472\n",
      "min              2014-07-29 00:00:00     2.000000\n",
      "25%              2016-09-12 06:00:00    18.000000\n",
      "50%              2020-02-03 12:00:00    26.000000\n",
      "75%              2022-02-18 18:00:00    38.000000\n",
      "max              2024-03-03 00:00:00   374.000000\n",
      "std                              NaN    22.737103 \n",
      "\n",
      "Overview of cleaned_fort_df.csv:\n",
      "Shape: (3314, 2)\n",
      "Data Types: date    datetime64[ns]\n",
      "pm25           float64\n",
      "dtype: object\n",
      "Missing Values: date    0\n",
      "pm25    0\n",
      "dtype: int64\n",
      "Data Preview (head)         date  pm25\n",
      "0 2024-03-02  16.0\n",
      "1 2024-03-03  29.0\n",
      "2 2024-02-02  13.0\n",
      "3 2024-02-03  31.0\n",
      "4 2024-02-04  34.0 \n",
      "\n",
      "Summary Statistics:                                 date         pm25\n",
      "count                           3314  3314.000000\n",
      "mean   2019-06-23 08:43:09.740494848    29.754677\n",
      "min              2014-07-29 00:00:00     1.000000\n",
      "25%              2017-01-03 06:00:00    16.000000\n",
      "50%              2019-07-17 12:00:00    22.000000\n",
      "75%              2021-11-25 18:00:00    32.000000\n",
      "max              2024-03-03 00:00:00   673.000000\n",
      "std                              NaN    33.824780 \n",
      "\n",
      "Overview of cleaned_leth_df.csv:\n",
      "Shape: (3392, 2)\n",
      "Data Types: date    datetime64[ns]\n",
      "pm25           float64\n",
      "dtype: object\n",
      "Missing Values: date    0\n",
      "pm25    0\n",
      "dtype: int64\n",
      "Data Preview (head)         date  pm25\n",
      "0 2024-03-02  39.0\n",
      "1 2024-03-03  16.0\n",
      "2 2024-02-02  14.0\n",
      "3 2024-02-03  15.0\n",
      "4 2024-02-04  21.0 \n",
      "\n",
      "Summary Statistics:                                 date         pm25\n",
      "count                           3392  3392.000000\n",
      "mean   2019-05-30 09:19:31.698113280    25.492925\n",
      "min              2014-07-29 00:00:00     1.000000\n",
      "25%              2016-12-26 18:00:00    12.000000\n",
      "50%              2019-05-26 12:00:00    20.000000\n",
      "75%              2021-10-30 06:00:00    32.000000\n",
      "max              2024-03-03 00:00:00   201.000000\n",
      "std                              NaN    21.803172 \n",
      "\n"
     ]
    }
   ],
   "source": [
    "import pandas as pd\n",
    "\n",
    "def clean_data(file_path, new_file_name):\n",
    "    df = pd.read_csv(file_path)\n",
    "    df.columns = df.columns.str.strip()\n",
    "    df = df[[\"date\", \"pm25\"]]\n",
    "    df['pm25'] = pd.to_numeric(df['pm25'], errors='coerce')\n",
    "    df = df.dropna(subset=['pm25'])\n",
    "    df['date'] = pd.to_datetime(df['date'])\n",
    "    df.to_csv(new_file_name, index=False)\n",
    "    return df\n",
    "\n",
    "def dataset_overview(df, file_name):\n",
    "    print(f\"Overview of {file_name}:\")\n",
    "    print(\"Shape:\", df.shape)\n",
    "    print(\"Data Types:\", df.dtypes)\n",
    "    print(\"Missing Values:\", df.isnull().sum())\n",
    "    print(\"Data Preview (head)\", df.head(), \"\\n\")\n",
    "    print(\"Summary Statistics:\", df.describe(), \"\\n\")\n",
    "\n",
    "# Define the datasets\n",
    "datasets = {\n",
    "    \"Data/edmonton-central, alberta-air-quality.csv\": \"cleaned_edm_df.csv\",\n",
    "    \"Data/calgary-central 2, alberta, canada-air-quality.csv\": \"cleaned_cgy_df.csv\",\n",
    "    \"Data/fort-mcmurray athabasca valley, alberta-air-quality.csv\": \"cleaned_fort_df.csv\",\n",
    "    \"Data/lethbridge,-alberta, canada-air-quality.csv\": \"cleaned_leth_df.csv\"\n",
    "}\n",
    "\n",
    "# Clean each dataset and get an overview\n",
    "for original_file, cleaned_file in datasets.items():\n",
    "    cleaned_df = clean_data(original_file, cleaned_file)\n",
    "    dataset_overview(cleaned_df, cleaned_file)"
   ]
  },
  {
   "cell_type": "code",
   "execution_count": null,
   "id": "5ea42f9e-22ee-4c9c-90f1-0d02fe9733fd",
   "metadata": {
    "editable": true,
    "slideshow": {
     "slide_type": ""
    },
    "tags": []
   },
   "outputs": [],
   "source": []
  }
 ],
 "metadata": {
  "kernelspec": {
   "display_name": "Python (projenv)",
   "language": "python",
   "name": "projenv-kernel"
  },
  "language_info": {
   "codemirror_mode": {
    "name": "ipython",
    "version": 3
   },
   "file_extension": ".py",
   "mimetype": "text/x-python",
   "name": "python",
   "nbconvert_exporter": "python",
   "pygments_lexer": "ipython3",
   "version": "3.11.7"
  },
  "nteract": {
   "version": "0.28.0"
  }
 },
 "nbformat": 4,
 "nbformat_minor": 5
}
